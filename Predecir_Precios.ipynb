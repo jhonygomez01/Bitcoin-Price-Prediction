{
  "nbformat": 4,
  "nbformat_minor": 0,
  "metadata": {
    "colab": {
      "provenance": [],
      "collapsed_sections": [],
      "include_colab_link": true
    },
    "kernelspec": {
      "name": "python3",
      "display_name": "Python 3"
    },
    "language_info": {
      "name": "python"
    }
  },
  "cells": [
    {
      "cell_type": "markdown",
      "metadata": {
        "id": "view-in-github",
        "colab_type": "text"
      },
      "source": [
        "<a href=\"https://colab.research.google.com/github/jhonygomez01/Bitcoin-Price-Prediction/blob/main/Predecir_Precios.ipynb\" target=\"_parent\"><img src=\"https://colab.research.google.com/assets/colab-badge.svg\" alt=\"Open In Colab\"/></a>"
      ]
    },
    {
      "cell_type": "code",
      "execution_count": null,
      "metadata": {
        "id": "nPGL7qMFDDC-"
      },
      "outputs": [],
      "source": [
        "pip install yfinance"
      ]
    },
    {
      "cell_type": "code",
      "source": [
        "import numpy as np\n",
        "import matplotlib.pyplot as plt\n",
        "import pandas as pd\n",
        "\n",
        "import yfinance as yf\n",
        "\n",
        "from sklearn.preprocessing import MinMaxScaler\n",
        "from tensorflow.keras.models import Sequential\n",
        "from tensorflow.keras.layers import Dense,Dropout,GRU"
      ],
      "metadata": {
        "id": "pbnve7rBGxfG"
      },
      "execution_count": null,
      "outputs": []
    },
    {
      "cell_type": "code",
      "source": [
        "#Cargar los datos\n",
        "company = 'TSLA'\n",
        "ticker = yf.Ticker(company)\n",
        "hist = ticker.history(start = '2012-1-1', end='2020-1-1')\n",
        "\n",
        "hist"
      ],
      "metadata": {
        "id": "VLWhLwFgHVw_",
        "colab": {
          "base_uri": "https://localhost:8080/",
          "height": 455
        },
        "outputId": "1a185856-8a10-496d-a8c9-a44bea391546"
      },
      "execution_count": null,
      "outputs": [
        {
          "output_type": "execute_result",
          "data": {
            "text/plain": [
              "                 Open       High        Low      Close     Volume  Dividends  \\\n",
              "Date                                                                           \n",
              "2012-01-03   1.929333   1.966666   1.843333   1.872000   13920780          0   \n",
              "2012-01-04   1.880666   1.911333   1.833333   1.847333    9450540          0   \n",
              "2012-01-05   1.850666   1.862000   1.790000   1.808000   15081480          0   \n",
              "2012-01-06   1.813333   1.852666   1.760666   1.794000   14794305          0   \n",
              "2012-01-09   1.800000   1.832666   1.741333   1.816666   13454265          0   \n",
              "...               ...        ...        ...        ...        ...        ...   \n",
              "2019-12-24  27.890665  28.364666  27.512501  28.350000  120820800          0   \n",
              "2019-12-26  28.527332  28.898666  28.423332  28.729334  159724335          0   \n",
              "2019-12-27  29.000000  29.020666  28.407333  28.691999  149352405          0   \n",
              "2019-12-30  28.586000  28.600000  27.283926  27.646666  189018975          0   \n",
              "2019-12-31  27.000019  28.086000  26.805332  27.888666  154386840          0   \n",
              "\n",
              "            Stock Splits  \n",
              "Date                      \n",
              "2012-01-03             0  \n",
              "2012-01-04             0  \n",
              "2012-01-05             0  \n",
              "2012-01-06             0  \n",
              "2012-01-09             0  \n",
              "...                  ...  \n",
              "2019-12-24             0  \n",
              "2019-12-26             0  \n",
              "2019-12-27             0  \n",
              "2019-12-30             0  \n",
              "2019-12-31             0  \n",
              "\n",
              "[2012 rows x 7 columns]"
            ],
            "text/html": [
              "\n",
              "  <div id=\"df-e4210950-4f61-4fc4-9053-364c8b7f4cac\">\n",
              "    <div class=\"colab-df-container\">\n",
              "      <div>\n",
              "<style scoped>\n",
              "    .dataframe tbody tr th:only-of-type {\n",
              "        vertical-align: middle;\n",
              "    }\n",
              "\n",
              "    .dataframe tbody tr th {\n",
              "        vertical-align: top;\n",
              "    }\n",
              "\n",
              "    .dataframe thead th {\n",
              "        text-align: right;\n",
              "    }\n",
              "</style>\n",
              "<table border=\"1\" class=\"dataframe\">\n",
              "  <thead>\n",
              "    <tr style=\"text-align: right;\">\n",
              "      <th></th>\n",
              "      <th>Open</th>\n",
              "      <th>High</th>\n",
              "      <th>Low</th>\n",
              "      <th>Close</th>\n",
              "      <th>Volume</th>\n",
              "      <th>Dividends</th>\n",
              "      <th>Stock Splits</th>\n",
              "    </tr>\n",
              "    <tr>\n",
              "      <th>Date</th>\n",
              "      <th></th>\n",
              "      <th></th>\n",
              "      <th></th>\n",
              "      <th></th>\n",
              "      <th></th>\n",
              "      <th></th>\n",
              "      <th></th>\n",
              "    </tr>\n",
              "  </thead>\n",
              "  <tbody>\n",
              "    <tr>\n",
              "      <th>2012-01-03</th>\n",
              "      <td>1.929333</td>\n",
              "      <td>1.966666</td>\n",
              "      <td>1.843333</td>\n",
              "      <td>1.872000</td>\n",
              "      <td>13920780</td>\n",
              "      <td>0</td>\n",
              "      <td>0</td>\n",
              "    </tr>\n",
              "    <tr>\n",
              "      <th>2012-01-04</th>\n",
              "      <td>1.880666</td>\n",
              "      <td>1.911333</td>\n",
              "      <td>1.833333</td>\n",
              "      <td>1.847333</td>\n",
              "      <td>9450540</td>\n",
              "      <td>0</td>\n",
              "      <td>0</td>\n",
              "    </tr>\n",
              "    <tr>\n",
              "      <th>2012-01-05</th>\n",
              "      <td>1.850666</td>\n",
              "      <td>1.862000</td>\n",
              "      <td>1.790000</td>\n",
              "      <td>1.808000</td>\n",
              "      <td>15081480</td>\n",
              "      <td>0</td>\n",
              "      <td>0</td>\n",
              "    </tr>\n",
              "    <tr>\n",
              "      <th>2012-01-06</th>\n",
              "      <td>1.813333</td>\n",
              "      <td>1.852666</td>\n",
              "      <td>1.760666</td>\n",
              "      <td>1.794000</td>\n",
              "      <td>14794305</td>\n",
              "      <td>0</td>\n",
              "      <td>0</td>\n",
              "    </tr>\n",
              "    <tr>\n",
              "      <th>2012-01-09</th>\n",
              "      <td>1.800000</td>\n",
              "      <td>1.832666</td>\n",
              "      <td>1.741333</td>\n",
              "      <td>1.816666</td>\n",
              "      <td>13454265</td>\n",
              "      <td>0</td>\n",
              "      <td>0</td>\n",
              "    </tr>\n",
              "    <tr>\n",
              "      <th>...</th>\n",
              "      <td>...</td>\n",
              "      <td>...</td>\n",
              "      <td>...</td>\n",
              "      <td>...</td>\n",
              "      <td>...</td>\n",
              "      <td>...</td>\n",
              "      <td>...</td>\n",
              "    </tr>\n",
              "    <tr>\n",
              "      <th>2019-12-24</th>\n",
              "      <td>27.890665</td>\n",
              "      <td>28.364666</td>\n",
              "      <td>27.512501</td>\n",
              "      <td>28.350000</td>\n",
              "      <td>120820800</td>\n",
              "      <td>0</td>\n",
              "      <td>0</td>\n",
              "    </tr>\n",
              "    <tr>\n",
              "      <th>2019-12-26</th>\n",
              "      <td>28.527332</td>\n",
              "      <td>28.898666</td>\n",
              "      <td>28.423332</td>\n",
              "      <td>28.729334</td>\n",
              "      <td>159724335</td>\n",
              "      <td>0</td>\n",
              "      <td>0</td>\n",
              "    </tr>\n",
              "    <tr>\n",
              "      <th>2019-12-27</th>\n",
              "      <td>29.000000</td>\n",
              "      <td>29.020666</td>\n",
              "      <td>28.407333</td>\n",
              "      <td>28.691999</td>\n",
              "      <td>149352405</td>\n",
              "      <td>0</td>\n",
              "      <td>0</td>\n",
              "    </tr>\n",
              "    <tr>\n",
              "      <th>2019-12-30</th>\n",
              "      <td>28.586000</td>\n",
              "      <td>28.600000</td>\n",
              "      <td>27.283926</td>\n",
              "      <td>27.646666</td>\n",
              "      <td>189018975</td>\n",
              "      <td>0</td>\n",
              "      <td>0</td>\n",
              "    </tr>\n",
              "    <tr>\n",
              "      <th>2019-12-31</th>\n",
              "      <td>27.000019</td>\n",
              "      <td>28.086000</td>\n",
              "      <td>26.805332</td>\n",
              "      <td>27.888666</td>\n",
              "      <td>154386840</td>\n",
              "      <td>0</td>\n",
              "      <td>0</td>\n",
              "    </tr>\n",
              "  </tbody>\n",
              "</table>\n",
              "<p>2012 rows × 7 columns</p>\n",
              "</div>\n",
              "      <button class=\"colab-df-convert\" onclick=\"convertToInteractive('df-e4210950-4f61-4fc4-9053-364c8b7f4cac')\"\n",
              "              title=\"Convert this dataframe to an interactive table.\"\n",
              "              style=\"display:none;\">\n",
              "        \n",
              "  <svg xmlns=\"http://www.w3.org/2000/svg\" height=\"24px\"viewBox=\"0 0 24 24\"\n",
              "       width=\"24px\">\n",
              "    <path d=\"M0 0h24v24H0V0z\" fill=\"none\"/>\n",
              "    <path d=\"M18.56 5.44l.94 2.06.94-2.06 2.06-.94-2.06-.94-.94-2.06-.94 2.06-2.06.94zm-11 1L8.5 8.5l.94-2.06 2.06-.94-2.06-.94L8.5 2.5l-.94 2.06-2.06.94zm10 10l.94 2.06.94-2.06 2.06-.94-2.06-.94-.94-2.06-.94 2.06-2.06.94z\"/><path d=\"M17.41 7.96l-1.37-1.37c-.4-.4-.92-.59-1.43-.59-.52 0-1.04.2-1.43.59L10.3 9.45l-7.72 7.72c-.78.78-.78 2.05 0 2.83L4 21.41c.39.39.9.59 1.41.59.51 0 1.02-.2 1.41-.59l7.78-7.78 2.81-2.81c.8-.78.8-2.07 0-2.86zM5.41 20L4 18.59l7.72-7.72 1.47 1.35L5.41 20z\"/>\n",
              "  </svg>\n",
              "      </button>\n",
              "      \n",
              "  <style>\n",
              "    .colab-df-container {\n",
              "      display:flex;\n",
              "      flex-wrap:wrap;\n",
              "      gap: 12px;\n",
              "    }\n",
              "\n",
              "    .colab-df-convert {\n",
              "      background-color: #E8F0FE;\n",
              "      border: none;\n",
              "      border-radius: 50%;\n",
              "      cursor: pointer;\n",
              "      display: none;\n",
              "      fill: #1967D2;\n",
              "      height: 32px;\n",
              "      padding: 0 0 0 0;\n",
              "      width: 32px;\n",
              "    }\n",
              "\n",
              "    .colab-df-convert:hover {\n",
              "      background-color: #E2EBFA;\n",
              "      box-shadow: 0px 1px 2px rgba(60, 64, 67, 0.3), 0px 1px 3px 1px rgba(60, 64, 67, 0.15);\n",
              "      fill: #174EA6;\n",
              "    }\n",
              "\n",
              "    [theme=dark] .colab-df-convert {\n",
              "      background-color: #3B4455;\n",
              "      fill: #D2E3FC;\n",
              "    }\n",
              "\n",
              "    [theme=dark] .colab-df-convert:hover {\n",
              "      background-color: #434B5C;\n",
              "      box-shadow: 0px 1px 3px 1px rgba(0, 0, 0, 0.15);\n",
              "      filter: drop-shadow(0px 1px 2px rgba(0, 0, 0, 0.3));\n",
              "      fill: #FFFFFF;\n",
              "    }\n",
              "  </style>\n",
              "\n",
              "      <script>\n",
              "        const buttonEl =\n",
              "          document.querySelector('#df-e4210950-4f61-4fc4-9053-364c8b7f4cac button.colab-df-convert');\n",
              "        buttonEl.style.display =\n",
              "          google.colab.kernel.accessAllowed ? 'block' : 'none';\n",
              "\n",
              "        async function convertToInteractive(key) {\n",
              "          const element = document.querySelector('#df-e4210950-4f61-4fc4-9053-364c8b7f4cac');\n",
              "          const dataTable =\n",
              "            await google.colab.kernel.invokeFunction('convertToInteractive',\n",
              "                                                     [key], {});\n",
              "          if (!dataTable) return;\n",
              "\n",
              "          const docLinkHtml = 'Like what you see? Visit the ' +\n",
              "            '<a target=\"_blank\" href=https://colab.research.google.com/notebooks/data_table.ipynb>data table notebook</a>'\n",
              "            + ' to learn more about interactive tables.';\n",
              "          element.innerHTML = '';\n",
              "          dataTable['output_type'] = 'display_data';\n",
              "          await google.colab.output.renderOutput(dataTable, element);\n",
              "          const docLink = document.createElement('div');\n",
              "          docLink.innerHTML = docLinkHtml;\n",
              "          element.appendChild(docLink);\n",
              "        }\n",
              "      </script>\n",
              "    </div>\n",
              "  </div>\n",
              "  "
            ]
          },
          "metadata": {},
          "execution_count": 24
        }
      ]
    },
    {
      "cell_type": "code",
      "source": [
        "#Preparar los datos\n",
        "scaler = MinMaxScaler(feature_range=(0,1))\n",
        "scaled_data = scaler.fit_transform(hist['Close'].values.reshape(-1,1))\n",
        "\n",
        "prediction_days = 60\n",
        "\n",
        "x_train = []\n",
        "y_train = []\n",
        "\n",
        "for x in range(prediction_days,len(scaled_data)):\n",
        "  x_train.append(scaled_data[x-prediction_days:x,0])\n",
        "  y_train.append(scaled_data[x,0])\n",
        "\n",
        "x_train,y_train = np.array(x_train),np.array(y_train)\n",
        "x_train = np.reshape(x_train,(x_train.shape[0],x_train.shape[1],1))\n",
        "\n",
        "x_train.shape"
      ],
      "metadata": {
        "colab": {
          "base_uri": "https://localhost:8080/"
        },
        "id": "s61fQZqiHyUL",
        "outputId": "7aa5261f-6d70-4137-dd19-4ea26ef24f8f"
      },
      "execution_count": null,
      "outputs": [
        {
          "output_type": "execute_result",
          "data": {
            "text/plain": [
              "(1952, 60, 1)"
            ]
          },
          "metadata": {},
          "execution_count": 25
        }
      ]
    },
    {
      "cell_type": "code",
      "source": [
        "#Contruir el modelo\n",
        "model = Sequential()\n",
        "\n",
        "model.add(GRU(units=50,return_sequences = True, input_shape=(x_train.shape[1],1)))\n",
        "model.add(Dropout(0.2))\n",
        "model.add(GRU(units=50,return_sequences = True))\n",
        "model.add(Dropout(0.2))\n",
        "model.add(GRU(units=50))\n",
        "model.add(Dropout(0.1))\n",
        "model.add(Dense(units=1))\n",
        "\n",
        "model.compile(optimizer='adam', loss='mean_squared_error')\n",
        "\n",
        "model.fit(x_train,y_train,epochs=25,batch_size=32)\n"
      ],
      "metadata": {
        "colab": {
          "base_uri": "https://localhost:8080/"
        },
        "id": "_P6AnkMgJvbk",
        "outputId": "1f2eafec-e720-4e7b-feea-6e973be8426a"
      },
      "execution_count": null,
      "outputs": [
        {
          "output_type": "stream",
          "name": "stdout",
          "text": [
            "Epoch 1/25\n",
            "61/61 [==============================] - 9s 68ms/step - loss: 0.0259\n",
            "Epoch 2/25\n",
            "61/61 [==============================] - 4s 68ms/step - loss: 0.0032\n",
            "Epoch 3/25\n",
            "61/61 [==============================] - 4s 69ms/step - loss: 0.0028\n",
            "Epoch 4/25\n",
            "61/61 [==============================] - 4s 68ms/step - loss: 0.0025\n",
            "Epoch 5/25\n",
            "61/61 [==============================] - 4s 67ms/step - loss: 0.0023\n",
            "Epoch 6/25\n",
            "61/61 [==============================] - 4s 67ms/step - loss: 0.0021\n",
            "Epoch 7/25\n",
            "61/61 [==============================] - 4s 67ms/step - loss: 0.0020\n",
            "Epoch 8/25\n",
            "61/61 [==============================] - 4s 67ms/step - loss: 0.0020\n",
            "Epoch 9/25\n",
            "61/61 [==============================] - 4s 67ms/step - loss: 0.0020\n",
            "Epoch 10/25\n",
            "61/61 [==============================] - 4s 67ms/step - loss: 0.0020\n",
            "Epoch 11/25\n",
            "61/61 [==============================] - 4s 67ms/step - loss: 0.0018\n",
            "Epoch 12/25\n",
            "61/61 [==============================] - 4s 67ms/step - loss: 0.0018\n",
            "Epoch 13/25\n",
            "61/61 [==============================] - 4s 67ms/step - loss: 0.0016\n",
            "Epoch 14/25\n",
            "61/61 [==============================] - 4s 67ms/step - loss: 0.0017\n",
            "Epoch 15/25\n",
            "61/61 [==============================] - 4s 67ms/step - loss: 0.0016\n",
            "Epoch 16/25\n",
            "61/61 [==============================] - 4s 67ms/step - loss: 0.0016\n",
            "Epoch 17/25\n",
            "61/61 [==============================] - 4s 67ms/step - loss: 0.0016\n",
            "Epoch 18/25\n",
            "61/61 [==============================] - 4s 67ms/step - loss: 0.0015\n",
            "Epoch 19/25\n",
            "61/61 [==============================] - 4s 68ms/step - loss: 0.0014\n",
            "Epoch 20/25\n",
            "61/61 [==============================] - 4s 68ms/step - loss: 0.0014\n",
            "Epoch 21/25\n",
            "61/61 [==============================] - 5s 88ms/step - loss: 0.0013\n",
            "Epoch 22/25\n",
            "61/61 [==============================] - 4s 67ms/step - loss: 0.0013\n",
            "Epoch 23/25\n",
            "61/61 [==============================] - 4s 66ms/step - loss: 0.0014\n",
            "Epoch 24/25\n",
            "61/61 [==============================] - 4s 66ms/step - loss: 0.0013\n",
            "Epoch 25/25\n",
            "61/61 [==============================] - 4s 67ms/step - loss: 0.0013\n"
          ]
        },
        {
          "output_type": "execute_result",
          "data": {
            "text/plain": [
              "<keras.callbacks.History at 0x7f2048e1ead0>"
            ]
          },
          "metadata": {},
          "execution_count": 26
        }
      ]
    },
    {
      "cell_type": "code",
      "source": [
        "#Cargar los datos del test\n",
        "hist_test = ticker.history(start = '2020-1-1', end='2022-8-21')\n",
        "actual_prices = hist_test[\"Close\"].values\n",
        "\n",
        "total_dataset = pd.concat((hist['Close'],hist_test['Close']),axis=0)\n",
        "model_inputs = total_dataset[len(total_dataset)-len(hist_test)-prediction_days:].values\n",
        "model_inputs = scaler.transform(model_inputs.reshape(-1,1))\n"
      ],
      "metadata": {
        "id": "hRm_TgHJLdjl"
      },
      "execution_count": null,
      "outputs": []
    },
    {
      "cell_type": "code",
      "source": [
        "x_test = []\n",
        "\n",
        "for x in range(prediction_days,len(model_inputs)):\n",
        "  x_test.append(model_inputs[x-prediction_days:x,0])\n",
        "\n",
        "x_test = np.array(x_test)\n",
        "x_test = np.reshape(x_test,(x_test.shape[0],x_test.shape[1],1))\n",
        "\n",
        "predicted_prices = model.predict(x_test)\n",
        "predicted_prices = scaler.inverse_transform(predicted_prices)\n"
      ],
      "metadata": {
        "id": "LdpCWBfmMmOV"
      },
      "execution_count": null,
      "outputs": []
    },
    {
      "cell_type": "code",
      "source": [
        "plt.plot(actual_prices,color=\"black\",label=f\"{company} real prices\")\n",
        "plt.plot(predicted_prices,color=\"blue\",label=f\"{company} predicted prices\")\n",
        "plt.legend()\n",
        "plt.show()"
      ],
      "metadata": {
        "colab": {
          "base_uri": "https://localhost:8080/"
        },
        "id": "loSrfZ9fNZqg",
        "outputId": "0cfae721-7b7f-4326-8d8d-62844e00a750"
      },
      "execution_count": null,
      "outputs": [
        {
          "output_type": "display_data",
          "data": {
            "text/plain": [
              "<Figure size 432x288 with 1 Axes>"
            ],
            "image/png": "[encoded data removed]"
          },
          "metadata": {
            "needs_background": "light"
          }
        }
      ]
    },
    {
      "cell_type": "code",
      "source": [
        "rentability = 1\n",
        "for i in range(1,len(actual_prices)):\n",
        "  if predicted_prices[i] > actual_prices[i-1]:\n",
        "    rentability*= actual_prices[i]/actual_prices[i-1]\n",
        "\n",
        "print((rentability-1)*100,\"%\")"
      ],
      "metadata": {
        "colab": {
          "base_uri": "https://localhost:8080/"
        },
        "id": "QP0MxfOPOHyf",
        "outputId": "4626aa28-2610-4095-f8f9-c7d99e5a3e75"
      },
      "execution_count": null,
      "outputs": [
        {
          "output_type": "stream",
          "name": "stdout",
          "text": [
            "3.3343448030232814 %\n"
          ]
        }
      ]
    }
  ]
}